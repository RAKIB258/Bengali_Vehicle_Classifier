{
 "cells": [
  {
   "cell_type": "code",
   "execution_count": 1,
   "metadata": {},
   "outputs": [],
   "source": [
    "import cv2\n",
    "import os\n"
   ]
  },
  {
   "cell_type": "code",
   "execution_count": 2,
   "metadata": {},
   "outputs": [
    {
     "data": {
      "text/plain": [
       "['.ipynb_checkpoints',\n",
       " 'diba0.jpg',\n",
       " 'diba1.jpg',\n",
       " 'diba10.jpg',\n",
       " 'diba100.jpg',\n",
       " 'diba101.jpg',\n",
       " 'diba102.jpg',\n",
       " 'diba103.jpg',\n",
       " 'diba104.jpg',\n",
       " 'diba105.jpg',\n",
       " 'diba106.jpg',\n",
       " 'diba107.jpg',\n",
       " 'diba108.jpg',\n",
       " 'diba109.jpg',\n",
       " 'diba11.jpg',\n",
       " 'diba110.jpg',\n",
       " 'diba111.jpg',\n",
       " 'diba112.jpg',\n",
       " 'diba113.jpg',\n",
       " 'diba114.jpg',\n",
       " 'diba115.jpg',\n",
       " 'diba116.jpg',\n",
       " 'diba117.jpg',\n",
       " 'diba118.jpg',\n",
       " 'diba119.jpg',\n",
       " 'diba12.jpg',\n",
       " 'diba120.jpg',\n",
       " 'diba121.jpg',\n",
       " 'diba122.jpg',\n",
       " 'diba123.jpg',\n",
       " 'diba124.jpg',\n",
       " 'diba125.jpg',\n",
       " 'diba126.jpg',\n",
       " 'diba127.jpg',\n",
       " 'diba128.jpg',\n",
       " 'diba129.jpg',\n",
       " 'diba13.jpg',\n",
       " 'diba130.jpg',\n",
       " 'diba131.jpg',\n",
       " 'diba132.jpg',\n",
       " 'diba133.jpg',\n",
       " 'diba134.jpg',\n",
       " 'diba135.jpg',\n",
       " 'diba136.jpg',\n",
       " 'diba137.jpg',\n",
       " 'diba138.jpg',\n",
       " 'diba139.jpg',\n",
       " 'diba14.jpg',\n",
       " 'diba140.jpg',\n",
       " 'diba141.jpg',\n",
       " 'diba15.jpg',\n",
       " 'diba16.jpg',\n",
       " 'diba17.jpg',\n",
       " 'diba18.jpg',\n",
       " 'diba19.jpg',\n",
       " 'diba2.jpg',\n",
       " 'diba20.jpg',\n",
       " 'diba21.jpg',\n",
       " 'diba22.jpg',\n",
       " 'diba23.jpg',\n",
       " 'diba24.jpg',\n",
       " 'diba25.jpg',\n",
       " 'diba26.jpg',\n",
       " 'diba27.jpg',\n",
       " 'diba28.jpg',\n",
       " 'Untitled.ipynb']"
      ]
     },
     "execution_count": 2,
     "metadata": {},
     "output_type": "execute_result"
    }
   ],
   "source": [
    "file=os.listdir()\n",
    "file"
   ]
  },
  {
   "cell_type": "code",
   "execution_count": 4,
   "metadata": {},
   "outputs": [
    {
     "ename": "error",
     "evalue": "OpenCV(4.0.0) C:\\projects\\opencv-python\\opencv\\modules\\imgproc\\src\\resize.cpp:3784: error: (-215:Assertion failed) !ssize.empty() in function 'cv::resize'\n",
     "output_type": "error",
     "traceback": [
      "\u001b[1;31m---------------------------------------------------------------------------\u001b[0m",
      "\u001b[1;31merror\u001b[0m                                     Traceback (most recent call last)",
      "\u001b[1;32m<ipython-input-4-01e87c824458>\u001b[0m in \u001b[0;36m<module>\u001b[1;34m\u001b[0m\n\u001b[0;32m      1\u001b[0m \u001b[1;32mfor\u001b[0m \u001b[0mi\u001b[0m \u001b[1;32min\u001b[0m \u001b[0mfile\u001b[0m\u001b[1;33m:\u001b[0m\u001b[1;33m\u001b[0m\u001b[1;33m\u001b[0m\u001b[0m\n\u001b[0;32m      2\u001b[0m     \u001b[0mimg\u001b[0m\u001b[1;33m=\u001b[0m \u001b[0mcv2\u001b[0m\u001b[1;33m.\u001b[0m\u001b[0mimread\u001b[0m\u001b[1;33m(\u001b[0m\u001b[0mi\u001b[0m\u001b[1;33m)\u001b[0m\u001b[1;33m\u001b[0m\u001b[1;33m\u001b[0m\u001b[0m\n\u001b[1;32m----> 3\u001b[1;33m     \u001b[0mimg\u001b[0m\u001b[1;33m=\u001b[0m\u001b[0mcv2\u001b[0m\u001b[1;33m.\u001b[0m\u001b[0mresize\u001b[0m\u001b[1;33m(\u001b[0m\u001b[0mimg\u001b[0m\u001b[1;33m,\u001b[0m\u001b[1;33m(\u001b[0m\u001b[1;36m400\u001b[0m\u001b[1;33m,\u001b[0m\u001b[1;36m400\u001b[0m\u001b[1;33m)\u001b[0m\u001b[1;33m,\u001b[0m \u001b[0minterpolation\u001b[0m\u001b[1;33m=\u001b[0m\u001b[0mcv2\u001b[0m\u001b[1;33m.\u001b[0m\u001b[0mINTER_AREA\u001b[0m\u001b[1;33m)\u001b[0m\u001b[1;33m\u001b[0m\u001b[1;33m\u001b[0m\u001b[0m\n\u001b[0m\u001b[0;32m      4\u001b[0m     \u001b[0mcv2\u001b[0m\u001b[1;33m.\u001b[0m\u001b[0mimwrite\u001b[0m\u001b[1;33m(\u001b[0m\u001b[0mi\u001b[0m\u001b[1;33m,\u001b[0m\u001b[0mimg\u001b[0m\u001b[1;33m)\u001b[0m\u001b[1;33m\u001b[0m\u001b[1;33m\u001b[0m\u001b[0m\n\u001b[0;32m      5\u001b[0m     \u001b[0mprint\u001b[0m\u001b[1;33m(\u001b[0m\u001b[1;34m'done'\u001b[0m\u001b[1;33m,\u001b[0m\u001b[0mi\u001b[0m\u001b[1;33m)\u001b[0m\u001b[1;33m\u001b[0m\u001b[1;33m\u001b[0m\u001b[0m\n",
      "\u001b[1;31merror\u001b[0m: OpenCV(4.0.0) C:\\projects\\opencv-python\\opencv\\modules\\imgproc\\src\\resize.cpp:3784: error: (-215:Assertion failed) !ssize.empty() in function 'cv::resize'\n"
     ]
    }
   ],
   "source": [
    "for i in file:\n",
    "    img= cv2.imread(i)\n",
    "    img=cv2.resize(img,(400,400), interpolation=cv2.INTER_AREA)\n",
    "    cv2.imwrite(i,img)\n",
    "    print('done',i)\n"
   ]
  },
  {
   "cell_type": "code",
   "execution_count": null,
   "metadata": {},
   "outputs": [],
   "source": []
  },
  {
   "cell_type": "code",
   "execution_count": null,
   "metadata": {},
   "outputs": [],
   "source": []
  },
  {
   "cell_type": "code",
   "execution_count": null,
   "metadata": {},
   "outputs": [],
   "source": []
  }
 ],
 "metadata": {
  "kernelspec": {
   "display_name": "Python 3.6 (tensorflow)",
   "language": "python",
   "name": "tensorflow"
  },
  "language_info": {
   "codemirror_mode": {
    "name": "ipython",
    "version": 3
   },
   "file_extension": ".py",
   "mimetype": "text/x-python",
   "name": "python",
   "nbconvert_exporter": "python",
   "pygments_lexer": "ipython3",
   "version": "3.6.8"
  }
 },
 "nbformat": 4,
 "nbformat_minor": 2
}
